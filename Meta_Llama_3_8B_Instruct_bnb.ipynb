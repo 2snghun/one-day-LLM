{
  "nbformat": 4,
  "nbformat_minor": 0,
  "metadata": {
    "colab": {
      "provenance": [],
      "gpuType": "T4",
      "machine_shape": "hm",
      "include_colab_link": true
    },
    "kernelspec": {
      "name": "python3",
      "display_name": "Python 3"
    },
    "language_info": {
      "name": "python"
    },
    "accelerator": "GPU"
  },
  "cells": [
    {
      "cell_type": "markdown",
      "metadata": {
        "id": "view-in-github",
        "colab_type": "text"
      },
      "source": [
        "<a href=\"https://colab.research.google.com/github/hukim1112/one-day-LLM/blob/main/Meta_Llama_3_8B_Instruct_bnb.ipynb\" target=\"_parent\"><img src=\"https://colab.research.google.com/assets/colab-badge.svg\" alt=\"Open In Colab\"/></a>"
      ]
    },
    {
      "cell_type": "code",
      "source": [
        "!pip install -U transformers accelerate bitsandbytes"
      ],
      "metadata": {
        "id": "Jb6QIaUw4xwW"
      },
      "execution_count": null,
      "outputs": []
    },
    {
      "cell_type": "code",
      "execution_count": null,
      "metadata": {
        "id": "trofmLZL4nN8"
      },
      "outputs": [],
      "source": [
        "import transformers\n",
        "import torch\n",
        "\n",
        "model_id = \"NousResearch/Meta-Llama-3-8B-Instruct\""
      ]
    },
    {
      "cell_type": "markdown",
      "source": [
        "# Llama 3 모델 로드"
      ],
      "metadata": {
        "id": "cg0ZomaCZqIa"
      }
    },
    {
      "cell_type": "markdown",
      "source": [
        "Llama-3 모델을 불러와보겠습니다."
      ],
      "metadata": {
        "id": "XC-JXfOwrpwX"
      }
    },
    {
      "cell_type": "code",
      "source": [
        "from transformers import AutoModelForCausalLM, AutoTokenizer\n",
        "\n",
        "tokenizer = AutoTokenizer.from_pretrained(\n",
        "    model_id\n",
        ")\n",
        "\n",
        "model = AutoModelForCausalLM.from_pretrained(model_id,\n",
        "                                             return_dict=True,\n",
        "                                             torch_dtype='auto',\n",
        "                                             device_map='cuda',\n",
        "                                             do_sample=True,\n",
        "                                            )\n"
      ],
      "metadata": {
        "id": "7CnXms5frfIv"
      },
      "execution_count": null,
      "outputs": []
    },
    {
      "cell_type": "code",
      "source": [
        "# Delete any models previously created\n",
        "del model, #accelerator\n",
        "\n",
        "# Empty VRAM cache\n",
        "import torch\n",
        "import gc\n",
        "gc.collect()\n",
        "torch.cuda.empty_cache()"
      ],
      "metadata": {
        "id": "HOKb2Vq2sWbI"
      },
      "execution_count": null,
      "outputs": []
    },
    {
      "cell_type": "markdown",
      "source": [
        "양자화된 모델을 불러와보겠습니다."
      ],
      "metadata": {
        "id": "3Onphjfprt2F"
      }
    },
    {
      "cell_type": "code",
      "source": [
        "from transformers import AutoModelForCausalLM, AutoTokenizer\n",
        "\n",
        "tokenizer = AutoTokenizer.from_pretrained(\n",
        "    model_id\n",
        ")\n",
        "\n",
        "model = AutoModelForCausalLM.from_pretrained(model_id,\n",
        "                                             return_dict=True,\n",
        "                                             torch_dtype='auto',\n",
        "                                             device_map='cuda',\n",
        "                                             do_sample=True,\n",
        "                                             load_in_4bit=True,\n",
        "                                            )\n"
      ],
      "metadata": {
        "id": "jkMqqhD65c3C"
      },
      "execution_count": null,
      "outputs": []
    },
    {
      "cell_type": "markdown",
      "source": [
        "# 챗 템플릿 활용\n",
        "\n",
        "- 역할 구분: 대화에 여러 참가자가 있을 수 있으며, 각 참가자의 발언을 구분할 수 있어야 합니다. 챗 템플릿은 이를 명확히 하기 위해 역할(role)을 정의합니다.\n",
        "- 구조 제공: 템플릿을 사용하면 대화의 시작과 끝, 각 발언의 구분 등을 명확히 할 수 있습니다.\n",
        "- 모델 학습 지원: 일관된 형식으로 데이터를 제공함으로써 모델이 데이터를 더 잘 이해하고, 훈련과 추론 과정에서 일관성 있는 성능을 발휘할 수 있도록 돕습니다.\n",
        "\n",
        "\n",
        "### 챗 템플릿의 구성 요소\n",
        "- 역할(Role): 주로 system, user, assistant와 같은 역할을 정의합니다.\n",
        "    - system: 시스템이나 설정 관련 메시지.\n",
        "    - user: 사용자의 입력 메시지.\n",
        "    - assistant: 모델이나 AI의 응답 메시지.\n",
        "- 특수 토큰: 각 역할이나 메시지의 경계를 나타내기 위해 사용됩니다. 예를 들어, <|endoftext|>는 텍스트의 끝을 나타내는 특수 토큰입니다.\n",
        "- 프롬프트 텍스트: 실제로 모델이 입력받는 텍스트로, 각 역할에 해당하는 메시지들이 포함됩니다.\n",
        "\n",
        "### 각 언어모델 별 템플릿 예시\n",
        "\n",
        "\n",
        "#### OpenAI\n",
        "```\n",
        "<|system|>You are a helpful assistant.<|endoftext|>\n",
        "<|user|>What is the capital of France?<|endoftext|>\n",
        "<|assistant|>The capital of France is Paris.<|endoftext|>\n",
        "```\n",
        "\n",
        "#### Hugging Face\n",
        "```\n",
        "chat = [\n",
        "    {\"role\": \"system\", \"content\": \"You are a helpful assistant.\"},\n",
        "    {\"role\": \"user\", \"content\": \"What is the capital of France?\"},\n",
        "]\n",
        "prompt = tokenizer.apply_chat_template(chat, tokenize=False, add_generation_prompt=True)\n",
        "\n",
        "```\n"
      ],
      "metadata": {
        "id": "sfRelZDh4Olb"
      }
    },
    {
      "cell_type": "code",
      "source": [
        "text = \"\"\"\n",
        "역사 퀴즈\n",
        "```\n",
        "나폴레옹의 유럽 정복\n",
        "나폴레옹 보나파르트는 18세기 후반에서 19세기 초반까지 유럽을 정복한 프랑스의 군사 지도자였다. 그는 여러 차례의 전투에서 승리하여 유럽 대륙을 지배하려 했으나, 워털루 전투에서 패배하면서 몰락했다.\n",
        "```\n",
        "```\n",
        "로마 제국의 붕괴\n",
        "서로마 제국은 5세기 말에 게르만족의 침입으로 붕괴하였다. 이로 인해 중세 유럽의 혼란기가 시작되었고, 여러 작은 왕국들이 형성되었다. 로마 제국의 붕괴는 유럽 역사에 큰 영향을 미쳤다.\n",
        "\n",
        "Q1. 나폴레옹의 유럽 정복과 로마 제국의 붕괴 사이에는 어떤 공통점과 차이점이 있을까요?\n",
        "\"\"\"\n",
        "\n",
        "\n",
        "chat = [\n",
        "    { \"role\": \"system\", \"content\": \" You are an artificial intelligence assistant that answers in Korean.\" },\n",
        "    { \"role\": \"user\", \"content\": f\"{text}\" },\n",
        "]\n",
        "prompt = tokenizer.apply_chat_template(chat, tokenize=False, add_generation_prompt=True)\n",
        "tokenizer.pad_token_id = tokenizer.eos_token_id\n",
        "token_ids = tokenizer.encode(prompt,\n",
        "                             add_special_tokens=False,\n",
        "                             return_tensors=\"pt\")\n",
        "\n",
        "# attention_mask 생성\n",
        "attention_mask = token_ids.ne(tokenizer.pad_token_id).long()\n",
        "\n",
        "with torch.no_grad():\n",
        "    output_ids = model.generate(\n",
        "        token_ids.to(model.device),\n",
        "        attention_mask=attention_mask.to(model.device),\n",
        "        do_sample=True,\n",
        "        temperature=0.6,\n",
        "        top_p=0.9,\n",
        "        max_new_tokens=512,\n",
        "        eos_token_id=[\n",
        "            tokenizer.eos_token_id,\n",
        "            tokenizer.convert_tokens_to_ids(\"<|eot_id|>\")\n",
        "        ],\n",
        "    )\n",
        "output = tokenizer.decode(output_ids.tolist()[0][token_ids.size(1) :], skip_special_tokens=True)\n",
        "\n",
        "print(output)"
      ],
      "metadata": {
        "id": "DvCEA_d08dHV"
      },
      "execution_count": null,
      "outputs": []
    },
    {
      "cell_type": "markdown",
      "source": [
        "output_ids는 모델이 생성한 토큰의 ID 시퀀스를 담고 있는 텐서입니다.\n",
        "tolist() 메소드는 이 텐서를 파이썬 리스트로 변환합니다. output_ids는 배치 형태로 결과를 반환하기 때문에, tolist()[0]을 사용하여 첫 번째 결과를 선택하고, 입력 텍스트를 제외한 다른 부분을 가져오기 위해 [token_ids.size(1):]로 인덱싱합니다."
      ],
      "metadata": {
        "id": "jVPM7QSABP3j"
      }
    },
    {
      "cell_type": "markdown",
      "source": [
        "# 대화형 챗봇을 위해 응답 저장하기"
      ],
      "metadata": {
        "id": "h5YtpTWDZzvL"
      }
    },
    {
      "cell_type": "code",
      "source": [
        "import torch\n",
        "\n",
        "# 초기 대화 맥락 설정\n",
        "chat = [\n",
        "    { \"role\": \"system\", \"content\": \"You are an artificial intelligence assistant that answers in Korean.\" }\n",
        "]\n",
        "\n",
        "def generate_response(model, tokenizer, chat):\n",
        "    # 대화 맥락을 이용해 프롬프트 생성\n",
        "    prompt = tokenizer.apply_chat_template(chat, tokenize=False, add_generation_prompt=True)\n",
        "    tokenizer.pad_token_id = tokenizer.eos_token_id\n",
        "    token_ids = tokenizer.encode(prompt,\n",
        "                                 add_special_tokens=False,\n",
        "                                 return_tensors=\"pt\")\n",
        "\n",
        "    # attention_mask 생성\n",
        "    attention_mask = token_ids.ne(tokenizer.pad_token_id).long()\n",
        "\n",
        "    # 모델 응답 생성\n",
        "    with torch.no_grad():\n",
        "        output_ids = model.generate(\n",
        "            token_ids.to(model.device),\n",
        "            attention_mask=attention_mask.to(model.device),\n",
        "            do_sample=True,\n",
        "            temperature=0.6,\n",
        "            top_p=0.9,\n",
        "            max_new_tokens=512,\n",
        "            eos_token_id=[\n",
        "                tokenizer.eos_token_id,\n",
        "                tokenizer.convert_tokens_to_ids(\"<|eot_id|>\")]\n",
        "        )\n",
        "    output = tokenizer.decode(output_ids.tolist()[0][token_ids.size(1) :], skip_special_tokens=True)\n",
        "    return output\n"
      ],
      "metadata": {
        "id": "RDi-j52896Jw"
      },
      "execution_count": null,
      "outputs": []
    },
    {
      "cell_type": "code",
      "source": [
        "while True:\n",
        "    user_input = input(\"User: \")\n",
        "    chat.append({\"role\": \"user\", \"content\": user_input})\n",
        "\n",
        "    # 모델에게 응답 요청\n",
        "    response = generate_response(model, tokenizer, chat)\n",
        "\n",
        "    # 모델 응답 출력\n",
        "    print(f\"AI: {response}\")\n",
        "\n",
        "    # 대화 맥락에 모델 응답 추가\n",
        "    chat.append({\"role\": \"assistant\", \"content\": response})\n",
        "\n",
        "    # 원하는 만큼 대화를 유지하기 위해 context length를 확인하고 필요시 제거\n",
        "    if len(chat) > 20:  # 예: 대화 길이가 20을 초과하면 오래된 항목 제거\n",
        "        chat = chat[-20:]"
      ],
      "metadata": {
        "id": "EW13sBg3ZlH8"
      },
      "execution_count": null,
      "outputs": []
    },
    {
      "cell_type": "code",
      "source": [
        "chat"
      ],
      "metadata": {
        "id": "EM109Cg3WzVu"
      },
      "execution_count": null,
      "outputs": []
    },
    {
      "cell_type": "code",
      "source": [],
      "metadata": {
        "id": "f2GWPmBiZAAj"
      },
      "execution_count": null,
      "outputs": []
    }
  ]
}