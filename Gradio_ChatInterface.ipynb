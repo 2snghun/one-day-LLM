{
  "nbformat": 4,
  "nbformat_minor": 0,
  "metadata": {
    "colab": {
      "provenance": [],
      "machine_shape": "hm",
      "gpuType": "L4",
      "include_colab_link": true
    },
    "kernelspec": {
      "name": "python3",
      "display_name": "Python 3"
    },
    "language_info": {
      "name": "python"
    },
    "accelerator": "GPU"
  },
  "cells": [
    {
      "cell_type": "markdown",
      "metadata": {
        "id": "view-in-github",
        "colab_type": "text"
      },
      "source": [
        "<a href=\"https://colab.research.google.com/github/hukim1112/one-day-LLM/blob/main/Gradio_ChatInterface.ipynb\" target=\"_parent\"><img src=\"https://colab.research.google.com/assets/colab-badge.svg\" alt=\"Open In Colab\"/></a>"
      ]
    },
    {
      "cell_type": "code",
      "execution_count": null,
      "metadata": {
        "id": "UzExYkwW0W7Q"
      },
      "outputs": [],
      "source": [
        "!pip install --upgrade gradio"
      ]
    },
    {
      "cell_type": "markdown",
      "source": [
        "챗봇은 대형 언어 모델의 인기 있는 응용 프로그램입니다. Gradio를 사용하면 챗봇 모델의 데모를 쉽게 구축하고 사용자와 공유하거나 직접 시도해볼 수 있습니다. 직관적인 챗봇 UI를 통해 이를 가능하게 합니다.\n",
        "\n",
        "이 튜토리얼에서는 gr.ChatInterface()를 사용합니다. 이는 하나의 코드 줄로도 빠르게 챗봇 UI를 만들 수 있는 고수준 추상화입니다!"
      ],
      "metadata": {
        "id": "nI1E9pyh0mag"
      }
    },
    {
      "cell_type": "code",
      "source": [
        "import gradio as gr"
      ],
      "metadata": {
        "id": "Q59mVHB20YCA"
      },
      "execution_count": null,
      "outputs": []
    },
    {
      "cell_type": "markdown",
      "source": [
        "gr.ChatInterface()를 사용할 때 첫 번째 할 일은 챗 함수를 정의하는 것입니다. 챗 함수는 두 개의 인자를 받아야 합니다: 메시지(message)와 히스토리(history)입니다 (인자의 이름은 다를 수 있지만 이 순서로 있어야 합니다).\n",
        "\n",
        "message: 사용자 입력을 나타내는 문자열입니다.\n",
        "history: 그 시점까지의 대화를 나타내는 리스트의 리스트입니다. 각 내부 리스트는 [사용자 입력, 챗봇 응답]과 같이 두 개의 문자열을 포함합니다.\n",
        "당신의 함수는 특정 사용자 입력 메시지에 대한 챗봇의 응답을 나타내는 하나의 문자열을 반환해야 합니다. 함수는 메시지의 히스토리와 현재 메시지를 고려할 수 있어야 합니다.\n",
        "\n",
        "몇 가지 예제를 살펴보겠습니다."
      ],
      "metadata": {
        "id": "e0guFlig0xpY"
      }
    },
    {
      "cell_type": "code",
      "source": [
        "import random\n",
        "\n",
        "def random_response(message, history):\n",
        "    return random.choice([\"Yes\", \"No\"])"
      ],
      "metadata": {
        "id": "0uw54aAp0YEQ"
      },
      "execution_count": null,
      "outputs": []
    },
    {
      "cell_type": "code",
      "source": [
        "gr.ChatInterface(random_response).launch()"
      ],
      "metadata": {
        "id": "5NV0GNm20YHH"
      },
      "execution_count": null,
      "outputs": []
    },
    {
      "cell_type": "code",
      "source": [],
      "metadata": {
        "id": "a4406I2n1Kr6"
      },
      "execution_count": null,
      "outputs": []
    },
    {
      "cell_type": "markdown",
      "source": [
        "### Another example using the user's input and history"
      ],
      "metadata": {
        "id": "6HGzKoHo1_gR"
      }
    },
    {
      "cell_type": "markdown",
      "source": [
        "이전 예제는 매우 단순했고 사용자 입력이나 이전 히스토리를 고려하지 않았습니다! 다음은 사용자 입력과 이전 대화 히스토리를 포함하는 방법을 보여주는 또 다른 간단한 예제입니다."
      ],
      "metadata": {
        "id": "7qv0dDGc20kb"
      }
    },
    {
      "cell_type": "code",
      "source": [
        "import random\n",
        "import gradio as gr\n",
        "\n",
        "def alternatingly_agree(message, history):\n",
        "    print(\"chat history :\", history)\n",
        "    if len(history) % 2 == 0:\n",
        "        return f\"Yes, I do think that '{message}'\"\n",
        "    else:\n",
        "        return \"I don't think so\"\n",
        "\n",
        "gr.ChatInterface(alternatingly_agree).launch(debug=True)"
      ],
      "metadata": {
        "id": "IekVHv6U0_mA"
      },
      "execution_count": null,
      "outputs": []
    },
    {
      "cell_type": "markdown",
      "source": [
        "### Streaming chatbots"
      ],
      "metadata": {
        "id": "IKCgOK5013uh"
      }
    },
    {
      "cell_type": "markdown",
      "source": [
        "챗 함수에서는 이전 응답을 대체하는 일련의 부분 응답을 생성하기 위해 yield를 사용할 수 있습니다. 이렇게 하면 스트리밍 챗봇을 만들 수 있습니다. 단순히 이렇게 하면 됩니다!"
      ],
      "metadata": {
        "id": "OM-NZ0Sv13Ei"
      }
    },
    {
      "cell_type": "code",
      "source": [
        "import time\n",
        "import gradio as gr\n",
        "\n",
        "def slow_echo(message, history):\n",
        "    for i in range(len(message)):\n",
        "        time.sleep(0.3)\n",
        "        yield \"You typed: \" + message[: i+1]\n",
        "\n",
        "gr.ChatInterface(slow_echo).launch()"
      ],
      "metadata": {
        "id": "KH5sDkjg1Ku6"
      },
      "execution_count": null,
      "outputs": []
    },
    {
      "cell_type": "code",
      "source": [],
      "metadata": {
        "id": "MJVsY-XE9IaO"
      },
      "execution_count": null,
      "outputs": []
    },
    {
      "cell_type": "code",
      "source": [],
      "metadata": {
        "id": "V4MRUtak9MNF"
      },
      "execution_count": null,
      "outputs": []
    }
  ]
}