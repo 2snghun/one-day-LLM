{
  "cells": [
    {
      "cell_type": "markdown",
      "metadata": {
        "id": "view-in-github",
        "colab_type": "text"
      },
      "source": [
        "<a href=\"https://colab.research.google.com/github/hukim1112/one-day-LLM/blob/main/5_peft_lora_clm_with_additional_tokens(Q_lora_version).ipynb\" target=\"_parent\"><img src=\"https://colab.research.google.com/assets/colab-badge.svg\" alt=\"Open In Colab\"/></a>"
      ]
    },
    {
      "cell_type": "code",
      "source": [
        "!pip install datasets evaluate transformers[sentencepiece] transformers[torch]\n",
        "!pip install pip install accelerate -U\n",
        "!pip install peft\n",
        "!pip install -q -U bitsandbytes"
      ],
      "metadata": {
        "id": "ZOvuoQ8qVEGZ"
      },
      "id": "ZOvuoQ8qVEGZ",
      "execution_count": null,
      "outputs": []
    },
    {
      "cell_type": "code",
      "source": [
        "!pip install dataclass_csv"
      ],
      "metadata": {
        "id": "1EOc5wNUVz-y"
      },
      "id": "1EOc5wNUVz-y",
      "execution_count": null,
      "outputs": []
    },
    {
      "cell_type": "code",
      "source": [
        "!pip install huggingface_hub"
      ],
      "metadata": {
        "id": "wU2_B0Obxo-W"
      },
      "id": "wU2_B0Obxo-W",
      "execution_count": null,
      "outputs": []
    },
    {
      "cell_type": "markdown",
      "source": [
        "우리는 lora를 huggingface에 업로드할 것 입니다. write 권한의 access token을 생성합니다."
      ],
      "metadata": {
        "id": "tIGYnBuNx7fX"
      },
      "id": "tIGYnBuNx7fX"
    },
    {
      "cell_type": "code",
      "source": [
        "from huggingface_hub import notebook_login\n",
        "\n",
        "notebook_login()"
      ],
      "metadata": {
        "id": "wiADu-b1xndY"
      },
      "id": "wiADu-b1xndY",
      "execution_count": null,
      "outputs": []
    },
    {
      "cell_type": "markdown",
      "id": "5f239612-620e-4430-8685-9fdc6b179b41",
      "metadata": {
        "id": "5f239612-620e-4430-8685-9fdc6b179b41"
      },
      "source": [
        "# Training PEFT models with new tokens being added to the embedding layers and tokenizer\n",
        "\n",
        "\n",
        "이번 예시에서, 우리는 새로운 토큰들을 토크나이저와 모델에 추가할 때, LoRA 모델을 학습하는 방법을 배웁니다.\n",
        "\n",
        "다음과 같은 상황에서 흔히 사용됩니다.\n",
        "\n",
        "1. Instruction finetuning: 대화를 올바르게 포맷하기 위해 \"<|user|>\", \"<|assistant|>\", \"<|system|>\"와 같은 새로운 토큰이 추가되는 경우\n",
        "\n",
        "2. 특정 언어에 대한 미세 조정: 한국어 데이터셋에서 LLM을 미세 조정하기 위해 한국어 토큰이 어휘에 추가되는 등 특정 언어에 대한 미세 조정\n",
        "\n",
        "3. 에이전트로 동작을 가능하게 하기 위해 특정 형식으로 출력을 반환하도록 하는 Instruction finetuning: <|FUNCTIONS|>, <|BROWSE|>, <|TEXT2IMAGE|>, <|ASR|>, <|TTS|>, <|GENERATECODE|>, <|RAG|> 와 같은 새로운 토큰이 사용되는 경우\n",
        "\n",
        "이러한 경우 LORA target_modules에 임베딩 모듈을 추가합니다. PEFT는 새로 추가된 토큰의 임베딩 가중치에 대한 특정 초기화 조건에 대해 훈련된 어댑터 가중치와 함께 새로 추가된 토큰의 임베딩 레이어를 저장합니다."
      ]
    },
    {
      "cell_type": "markdown",
      "id": "b27c55e8-edaa-4059-90bc-d6096d596902",
      "metadata": {
        "id": "b27c55e8-edaa-4059-90bc-d6096d596902"
      },
      "source": [
        "필요한 라이브러리를 가져옵니다."
      ]
    },
    {
      "cell_type": "code",
      "source": [
        "!nvidia-smi"
      ],
      "metadata": {
        "id": "CWULI0RtikRV"
      },
      "id": "CWULI0RtikRV",
      "execution_count": null,
      "outputs": []
    },
    {
      "cell_type": "code",
      "execution_count": null,
      "id": "6f864c90",
      "metadata": {
        "id": "6f864c90"
      },
      "outputs": [],
      "source": [
        "import os\n",
        "\n",
        "os.environ[\"CUDA_VISIBLE_DEVICES\"] = \"0\"\n",
        "os.environ[\"WANDB_PROJECT\"] = \"PeftExamples\"\n",
        "import transformers\n",
        "from peft import (\n",
        "    LoraConfig,\n",
        "    PeftConfig,\n",
        "    PeftModel,\n",
        "    get_peft_model,\n",
        "    prepare_model_for_kbit_training,\n",
        ")\n",
        "from transformers import (\n",
        "    AutoModelForCausalLM, #사용자 입력에 기반하여 다음 단어를 예측하는 문제\n",
        "    AutoTokenizer,\n",
        "    HfArgumentParser,\n",
        "    TrainingArguments,\n",
        "    Trainer,\n",
        "    default_data_collator,\n",
        ")\n",
        "import torch\n",
        "from dataclasses import dataclass, field\n",
        "from typing import Optional\n",
        "from dataclass_csv import DataclassReader\n",
        "from torch.utils.data import Dataset, DataLoader\n",
        "\n",
        "from enum import Enum"
      ]
    },
    {
      "cell_type": "markdown",
      "id": "74950a3f-bb63-4ce5-9e2b-1b83f92b13a2",
      "metadata": {
        "id": "74950a3f-bb63-4ce5-9e2b-1b83f92b13a2"
      },
      "source": [
        "## Prepare Model and Tokenizer"
      ]
    },
    {
      "cell_type": "markdown",
      "id": "76763f5e-64b2-409b-8845-ae5589f8a4e0",
      "metadata": {
        "id": "76763f5e-64b2-409b-8845-ae5589f8a4e0"
      },
      "source": [
        "이제 기존의 패드(pad), 시작(bos), 끝(eos) 토큰을 교체하는 것과 더불어 27개의 새로운 토큰을 추가할 것입니다."
      ]
    },
    {
      "cell_type": "code",
      "execution_count": null,
      "id": "fd0498ea-547e-418d-bf13-c9abafdd5476",
      "metadata": {
        "id": "fd0498ea-547e-418d-bf13-c9abafdd5476"
      },
      "outputs": [],
      "source": [
        "class SpecialTokens(str, Enum):\n",
        "    begin_target = \"<|begintarget|>\"\n",
        "    end_target = \"<|endtarget|>\"\n",
        "    begin_context = \"<|begincontext|>\"\n",
        "    end_context = \"<|endcontext|>\"\n",
        "    system = \"<|system|>\"\n",
        "    user = \"<|user|>\"\n",
        "    begin_last_user_utterance = \"<|beginlastuserutterance|>\"\n",
        "    end_last_user_utterance = \"<|endlastuserutterance|>\"\n",
        "    begin_dsts = \"<|begindsts|>\"\n",
        "    end_dsts = \"<|enddsts|>\"\n",
        "    begin_dst = \"<|begindst|>\"\n",
        "    end_dst = \"<|enddst|>\"\n",
        "    begin_belief = \"<|beginbelief|>\"\n",
        "    end_belief = \"<|endbelief|>\"\n",
        "    begin_response = \"<|beginresponse|>\"\n",
        "    end_response = \"<|endresponse|>\"\n",
        "    begin_action = \"<|beginaction|>\"\n",
        "    end_action = \"<|endaction|>\"\n",
        "    begin_user_action = \"<|beginuseraction|>\"\n",
        "    end_user_action = \"<|enduseraction|>\"\n",
        "    sys_actions = \"<|sysactions|>\"\n",
        "    begin_intent = \"<|beginintent|>\"\n",
        "    end_intent = \"<|endintent|>\"\n",
        "    begin_requested_slots = \"<|beginrequestedslots|>\"\n",
        "    end_requested_slots = \"<|endrequestedslots|>\"\n",
        "    pad_token = \"<|pad|>\"\n",
        "    bos_token = \"<|startoftext|>\"\n",
        "\n",
        "    @classmethod\n",
        "    def list(cls):\n",
        "        return [c.value for c in cls]"
      ]
    },
    {
      "cell_type": "markdown",
      "id": "ae4a4255-5f13-4eef-a024-4f1de0f2173b",
      "metadata": {
        "id": "ae4a4255-5f13-4eef-a024-4f1de0f2173b"
      },
      "source": [
        "Mistral-7B 모델을 미세조정 (finetune)할 것입니다. 우선 토크나이저를 불러와서 특수 토큰을 추가한 다음, 기본 모델을 불러오고 새로 추가된 토큰을 수용할 수 있도록 임베딩 레이어의 크기를 조정하겠습니다. 권한 문제가 발생했다면, 에러메시지의 링크를 타고 들어가 huggingface에서 Mistral 모델에 대한 access 권한을 얻고 다시 시도합니다."
      ]
    },
    {
      "cell_type": "markdown",
      "source": [
        "## 대상 모델을 4-bit quantization을 적용하여 로드"
      ],
      "metadata": {
        "id": "yLfXm4sT-ZmI"
      },
      "id": "yLfXm4sT-ZmI"
    },
    {
      "cell_type": "code",
      "source": [
        "import torch\n",
        "from transformers import AutoTokenizer, AutoModelForCausalLM, BitsAndBytesConfig\n",
        "\n",
        "model_name = \"mistralai/Mistral-7B-v0.1\"\n",
        "device = \"cuda\"\n",
        "tokenizer = AutoTokenizer.from_pretrained(\n",
        "    model_name,\n",
        "    pad_token=SpecialTokens.pad_token.value,\n",
        "    bos_token=SpecialTokens.bos_token.value,\n",
        "    eos_token=SpecialTokens.end_target.value,\n",
        "    additional_special_tokens=SpecialTokens.list(),\n",
        ")\n",
        "\n",
        "bnb_config = BitsAndBytesConfig(\n",
        "    load_in_4bit=True,\n",
        "    bnb_4bit_use_double_quant=True,\n",
        "    bnb_4bit_quant_type=\"nf4\",\n",
        "    bnb_4bit_compute_dtype=torch.bfloat16\n",
        ")\n",
        "\n",
        "model = AutoModelForCausalLM.from_pretrained(model_name, quantization_config=bnb_config, device_map={\"\":0})\n",
        "model.resize_token_embeddings(len(tokenizer))"
      ],
      "metadata": {
        "id": "4fUG-eIr2IGO"
      },
      "id": "4fUG-eIr2IGO",
      "execution_count": null,
      "outputs": []
    },
    {
      "cell_type": "markdown",
      "id": "88439ed6-9974-4918-80df-ec78b05b4185",
      "metadata": {
        "id": "88439ed6-9974-4918-80df-ec78b05b4185"
      },
      "source": [
        "## Apply Q-LoRA"
      ]
    },
    {
      "cell_type": "code",
      "source": [
        "from peft import prepare_model_for_kbit_training\n",
        "\n",
        "model.gradient_checkpointing_enable()\n",
        "model = prepare_model_for_kbit_training(model)"
      ],
      "metadata": {
        "id": "xq3Z1Tun2nD9"
      },
      "id": "xq3Z1Tun2nD9",
      "execution_count": null,
      "outputs": []
    },
    {
      "cell_type": "code",
      "source": [
        "def print_trainable_parameters(model):\n",
        "    \"\"\"\n",
        "    Prints the number of trainable parameters in the model.\n",
        "    \"\"\"\n",
        "    trainable_params = 0\n",
        "    all_param = 0\n",
        "    for _, param in model.named_parameters():\n",
        "        all_param += param.numel()\n",
        "        if param.requires_grad:\n",
        "            trainable_params += param.numel()\n",
        "    print(\n",
        "        f\"trainable params: {trainable_params} || all params: {all_param} || trainable%: {100 * trainable_params / all_param}\"\n",
        "    )"
      ],
      "metadata": {
        "id": "mCDwb_QY2oKD"
      },
      "id": "mCDwb_QY2oKD",
      "execution_count": null,
      "outputs": []
    },
    {
      "cell_type": "code",
      "source": [
        "from peft import LoraConfig, get_peft_model\n",
        "\n",
        "config = LoraConfig(\n",
        "    r=64,\n",
        "    lora_alpha=128,\n",
        "    target_modules=[\"embed_tokens\", \"lm_head\", \"q_proj\", \"v_proj\"],\n",
        "    lora_dropout=0.0,\n",
        "    bias=\"none\",\n",
        "    task_type=\"CAUSAL_LM\"\n",
        ")\n",
        "\n",
        "model = get_peft_model(model, config)\n",
        "print_trainable_parameters(model)"
      ],
      "metadata": {
        "id": "GxC6g4Ds2q2B"
      },
      "id": "GxC6g4Ds2q2B",
      "execution_count": null,
      "outputs": []
    },
    {
      "cell_type": "markdown",
      "source": [
        "![image.png](data:image/png;base64,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)"
      ],
      "metadata": {
        "id": "a3CHSVjR3hKg"
      },
      "id": "a3CHSVjR3hKg"
    },
    {
      "cell_type": "markdown",
      "id": "15ac9945-4fcb-45f4-9478-d99a25a519cc",
      "metadata": {
        "id": "15ac9945-4fcb-45f4-9478-d99a25a519cc"
      },
      "source": [
        "## Preapre Dataset"
      ]
    },
    {
      "cell_type": "markdown",
      "source": [
        "https://huggingface.co/datasets/smangrul/assistant_chatbot_dataset\n",
        "\n",
        "\n",
        "smangrul/assistant_chatbot_dataset은 대화형 챗봇을 위한 데이터셋이며, 일반적으로 context와 target으로 구성됩니다. 이 데이터셋에서 context는 사용자의 입력이나 대화의 이전 상황을 나타내며, target은 적절한 응답 또는 다음에 발생할 대화의 내용을 포함합니다. 모델은 context에 대한 이해를 바탕으로, target 전체를 생성하거나 예측하는 것을 목표로 합니다. 즉, 모델은 주어진 입력(context)에 대해 적절하고 자연스러운 반응(target)을 생성할 수 있어야 합니다.\n",
        "\n",
        "이 예시에서 context는 사용자와의 대화 내역을 포함하고 있으며, 사용자의 요구사항(예: 식당 예약, 음악 유무 확인 등)에 대한 세부 사항들을 추출하여 처리하는 과정을 보여줍니다. target은 이러한 요구사항을 반영한 구조화된 명령어 형태로 되어 있으며, 여러 키워드를 통해 구체적인 요청 사항을 표현합니다. 예를 들어, 사용자가 예약을 요청하고 식당에 라이브 음악 유무를 확인하고자 할 때, 모델은 이를 인식하고 적절한 응답을 생성해야 합니다."
      ],
      "metadata": {
        "id": "cYbilYVfe1V_"
      },
      "id": "cYbilYVfe1V_"
    },
    {
      "cell_type": "code",
      "execution_count": null,
      "id": "c6980d59-42d4-4a27-84cc-a9719302088b",
      "metadata": {
        "id": "c6980d59-42d4-4a27-84cc-a9719302088b"
      },
      "outputs": [],
      "source": [
        "from datasets import load_dataset\n",
        "\n",
        "dataset = load_dataset(\"smangrul/assistant_chatbot_dataset\")"
      ]
    },
    {
      "cell_type": "code",
      "source": [
        "dataset['train'][:3]"
      ],
      "metadata": {
        "id": "PkRroFN0ea7l"
      },
      "id": "PkRroFN0ea7l",
      "execution_count": null,
      "outputs": []
    },
    {
      "cell_type": "code",
      "source": [
        "dataset = dataset[\"train\"].train_test_split(0.2)\n",
        "\n",
        "text_column = \"context\"\n",
        "label_column = \"target\"\n",
        "max_length = 512\n",
        "\n",
        "\n",
        "def preprocess_function(examples):\n",
        "    batch_size = len(examples[text_column])\n",
        "    targets = [str(x) for x in examples[label_column]]\n",
        "    model_inputs = tokenizer(examples[text_column])\n",
        "    labels = tokenizer(targets, add_special_tokens=False)  # don't add bos token because we concatenate with inputs\n",
        "    for i in range(batch_size):\n",
        "        sample_input_ids = model_inputs[\"input_ids\"][i]\n",
        "        label_input_ids = labels[\"input_ids\"][i] + [tokenizer.eos_token_id]\n",
        "        # print(i, sample_input_ids, label_input_ids)\n",
        "        model_inputs[\"input_ids\"][i] = sample_input_ids + label_input_ids\n",
        "        labels[\"input_ids\"][i] = [-100] * len(sample_input_ids) + label_input_ids\n",
        "        model_inputs[\"attention_mask\"][i] = [1] * len(model_inputs[\"input_ids\"][i])\n",
        "    # print(model_inputs)\n",
        "    for i in range(batch_size):\n",
        "        sample_input_ids = model_inputs[\"input_ids\"][i]\n",
        "        label_input_ids = labels[\"input_ids\"][i]\n",
        "        model_inputs[\"input_ids\"][i] = [tokenizer.pad_token_id] * (\n",
        "            max_length - len(sample_input_ids)\n",
        "        ) + sample_input_ids\n",
        "        model_inputs[\"attention_mask\"][i] = [0] * (max_length - len(sample_input_ids)) + model_inputs[\n",
        "            \"attention_mask\"\n",
        "        ][i]\n",
        "        labels[\"input_ids\"][i] = [-100] * (max_length - len(sample_input_ids)) + label_input_ids\n",
        "        model_inputs[\"input_ids\"][i] = model_inputs[\"input_ids\"][i][:max_length]\n",
        "        model_inputs[\"attention_mask\"][i] = model_inputs[\"attention_mask\"][i][:max_length]\n",
        "        labels[\"input_ids\"][i] = labels[\"input_ids\"][i][:max_length]\n",
        "    model_inputs[\"labels\"] = labels[\"input_ids\"]\n",
        "    return model_inputs\n",
        "\n",
        "\n",
        "processed_datasets = dataset.map(\n",
        "    preprocess_function,\n",
        "    batched=True,\n",
        "    num_proc=1,\n",
        "    remove_columns=dataset[\"train\"].column_names,\n",
        "    load_from_cache_file=False,\n",
        "    desc=\"Running tokenizer on dataset\",\n",
        ")\n",
        "\n",
        "train_dataset = processed_datasets[\"train\"]"
      ],
      "metadata": {
        "id": "0zniOpF6VrxO"
      },
      "id": "0zniOpF6VrxO",
      "execution_count": null,
      "outputs": []
    },
    {
      "cell_type": "code",
      "execution_count": null,
      "id": "5671b1ee-dca4-4705-8399-5c2967b9fb5c",
      "metadata": {
        "id": "5671b1ee-dca4-4705-8399-5c2967b9fb5c"
      },
      "outputs": [],
      "source": [
        "train_dataset"
      ]
    },
    {
      "cell_type": "code",
      "execution_count": null,
      "id": "3f38888e-4382-415b-869d-7202a816606a",
      "metadata": {
        "id": "3f38888e-4382-415b-869d-7202a816606a"
      },
      "outputs": [],
      "source": [
        "train_dataloader = DataLoader(\n",
        "    train_dataset, shuffle=True, collate_fn=default_data_collator, batch_size=8, pin_memory=True\n",
        ")"
      ]
    },
    {
      "cell_type": "code",
      "execution_count": null,
      "id": "53b9e552-4c5d-43e8-a9cd-8073af8d4280",
      "metadata": {
        "id": "53b9e552-4c5d-43e8-a9cd-8073af8d4280"
      },
      "outputs": [],
      "source": [
        "next(iter(train_dataloader))"
      ]
    },
    {
      "cell_type": "code",
      "execution_count": null,
      "id": "7de31ee2-185e-4658-9ad1-ae5f6bc3a611",
      "metadata": {
        "id": "7de31ee2-185e-4658-9ad1-ae5f6bc3a611"
      },
      "outputs": [],
      "source": [
        "tokenizer.decode(train_dataset[0][\"input_ids\"])"
      ]
    },
    {
      "cell_type": "markdown",
      "id": "239d1c83-196d-471e-9bf7-5f36dafa9894",
      "metadata": {
        "id": "239d1c83-196d-471e-9bf7-5f36dafa9894"
      },
      "source": [
        "# Train the model"
      ]
    },
    {
      "cell_type": "code",
      "source": [
        "repo_name = \"hukim1112\" #여러분의 계정으로 이름을 변경합니다.\n",
        "hub_model_id=f\"{repo_name}/mistral_lora_clm_with_added_tokens\""
      ],
      "metadata": {
        "id": "ZzOkNdXfv40q"
      },
      "id": "ZzOkNdXfv40q",
      "execution_count": null,
      "outputs": []
    },
    {
      "cell_type": "code",
      "execution_count": null,
      "id": "ec80d6ee",
      "metadata": {
        "id": "ec80d6ee"
      },
      "outputs": [],
      "source": [
        "training_args = TrainingArguments(\n",
        "    output_dir=\"mistral_lora_clm_with_added_tokens\",\n",
        "    num_train_epochs=2,\n",
        "    save_total_limit=5,\n",
        "    per_device_train_batch_size=8,\n",
        "    warmup_steps=10,\n",
        "    weight_decay=0.0001,\n",
        "    dataloader_drop_last=True,\n",
        "    bf16=True,\n",
        "    logging_steps=10,\n",
        "    learning_rate=1e-5,\n",
        "    gradient_checkpointing=True,\n",
        "    gradient_checkpointing_kwargs={\"use_reentrant\": False},\n",
        "    remove_unused_columns=False,\n",
        "    hub_model_id=hub_model_id,\n",
        "    push_to_hub=False,\n",
        "    hub_private_repo=True,\n",
        "    optim=\"paged_adamw_8bit\"\n",
        ")\n",
        "trainer = Trainer(\n",
        "    model=model,\n",
        "    args=training_args,\n",
        "    train_dataset=train_dataset,\n",
        "    data_collator=default_data_collator,\n",
        ")\n",
        "# model.config.use_cache = False\n",
        "trainer.train()"
      ]
    },
    {
      "cell_type": "markdown",
      "id": "7bc1cbed-4eb9-4aaa-ab5f-5b91bf432307",
      "metadata": {
        "id": "7bc1cbed-4eb9-4aaa-ab5f-5b91bf432307"
      },
      "source": [
        "# Check the model output on a sample from evaluation dataset"
      ]
    },
    {
      "cell_type": "code",
      "execution_count": null,
      "id": "71851793",
      "metadata": {
        "id": "71851793"
      },
      "outputs": [],
      "source": [
        "import random\n",
        "\n",
        "i = random.randint(0, len(dataset[\"test\"]))\n",
        "context = dataset[\"test\"][i][\"context\"]\n",
        "\n",
        "batch = tokenizer(context, return_tensors=\"pt\")\n",
        "batch = {k: v.to(\"cuda\") for k, v in batch.items()}\n",
        "model.eval()\n",
        "output_tokens = model.generate(\n",
        "    **batch,\n",
        "    max_new_tokens=256,\n",
        "    do_sample=True,\n",
        "    temperature=0.2,\n",
        "    top_p=0.95,\n",
        "    top_k=50,\n",
        "    eos_token_id=tokenizer.eos_token_id,\n",
        "    pad_token_id=tokenizer.pad_token_id,\n",
        ")\n",
        "target_predicted = tokenizer.decode(output_tokens[0], skip_special_tokens=False).split(\"<|endcontext|>\")[1]\n",
        "target = dataset[\"test\"][i][\"target\"]\n",
        "print(f\"{context=} \\n\\n {target_predicted=} \\n\\n {target=}\")"
      ]
    },
    {
      "cell_type": "markdown",
      "id": "f940a660-2f7c-4a3a-b412-3f037aedb890",
      "metadata": {
        "id": "f940a660-2f7c-4a3a-b412-3f037aedb890"
      },
      "source": [
        "# Save the Adapter model"
      ]
    },
    {
      "cell_type": "markdown",
      "id": "7ebe05e9-9b93-42f6-bba8-46b8cc3d100f",
      "metadata": {
        "id": "7ebe05e9-9b93-42f6-bba8-46b8cc3d100f"
      },
      "source": [
        "로라 계층이 임베딩 계층에 적용될 때, 해당하는 기본 모델 임베딩 계층도 저장됩니다."
      ]
    },
    {
      "cell_type": "code",
      "source": [
        "from huggingface_hub import notebook_login\n",
        "\n",
        "notebook_login()"
      ],
      "metadata": {
        "id": "sCzBa34knB8r"
      },
      "id": "sCzBa34knB8r",
      "execution_count": null,
      "outputs": []
    },
    {
      "cell_type": "code",
      "execution_count": null,
      "id": "3d7459ba-caa8-4f10-aa70-89be4541cbdf",
      "metadata": {
        "id": "3d7459ba-caa8-4f10-aa70-89be4541cbdf"
      },
      "outputs": [],
      "source": [
        "trainer.push_to_hub()\n",
        "trainer.model.push_to_hub(training_args.output_dir)"
      ]
    },
    {
      "cell_type": "markdown",
      "id": "66812cc4-f9a3-46c4-bcee-0cba03950685",
      "metadata": {
        "id": "66812cc4-f9a3-46c4-bcee-0cba03950685"
      },
      "source": [
        "# Check the model loading is working as expected and generating plausible outputs.\n",
        "\n",
        "실행 전 학습을 했다면, 학습모델을 제거해서 메모리를 비워줄 필요 있음."
      ]
    },
    {
      "cell_type": "code",
      "source": [
        "del model, trainer\n",
        "import torch\n",
        "torch.cuda.empty_cache()  # 캐시된 메모리 정리"
      ],
      "metadata": {
        "id": "Dcr9hJKSnc0i"
      },
      "id": "Dcr9hJKSnc0i",
      "execution_count": null,
      "outputs": []
    },
    {
      "cell_type": "code",
      "execution_count": null,
      "id": "589c46d7-d567-40b4-ab7d-e0a9e1cab40e",
      "metadata": {
        "id": "589c46d7-d567-40b4-ab7d-e0a9e1cab40e"
      },
      "outputs": [],
      "source": [
        "from peft import PeftModel\n",
        "\n",
        "inference_model = AutoModelForCausalLM.from_pretrained(\n",
        "    model_name,\n",
        "    low_cpu_mem_usage=True,\n",
        "    # use_flash_attention_2=True,\n",
        ")\n",
        "inference_model.resize_token_embeddings(len(tokenizer))\n",
        "\n",
        "inference_model = PeftModel.from_pretrained(inference_model, hub_model_id)\n",
        "inference_model.to(\"cuda\")\n",
        "inference_model.eval()\n",
        "\n",
        "output_tokens = inference_model.generate(\n",
        "    **batch,\n",
        "    max_new_tokens=256,\n",
        "    do_sample=True,\n",
        "    temperature=0.2,\n",
        "    top_p=0.95,\n",
        "    top_k=50,\n",
        "    eos_token_id=tokenizer.eos_token_id,\n",
        "    pad_token_id=tokenizer.pad_token_id,\n",
        ")\n",
        "\n",
        "target_predicted = tokenizer.decode(output_tokens[0], skip_special_tokens=False).split(\"<|endcontext|>\")[1]\n",
        "print(f\"{context=} \\n\\n {target_predicted=} \\n\\n {target=}\")"
      ]
    },
    {
      "cell_type": "code",
      "execution_count": null,
      "id": "fd57f6e8-761f-4e0b-941c-f6973e13b186",
      "metadata": {
        "id": "fd57f6e8-761f-4e0b-941c-f6973e13b186"
      },
      "outputs": [],
      "source": []
    }
  ],
  "metadata": {
    "kernelspec": {
      "display_name": "Python 3",
      "name": "python3"
    },
    "language_info": {
      "codemirror_mode": {
        "name": "ipython",
        "version": 3
      },
      "file_extension": ".py",
      "mimetype": "text/x-python",
      "name": "python",
      "nbconvert_exporter": "python",
      "pygments_lexer": "ipython3",
      "version": "3.10.13"
    },
    "colab": {
      "provenance": [],
      "gpuType": "T4",
      "machine_shape": "hm",
      "include_colab_link": true
    },
    "accelerator": "GPU"
  },
  "nbformat": 4,
  "nbformat_minor": 5
}